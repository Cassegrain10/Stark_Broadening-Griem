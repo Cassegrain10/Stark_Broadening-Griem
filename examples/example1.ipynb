# Installing `Stark_Broadening-Griem` library into environment
#!pip install git+https://github.com/Cassegrain10/Stark_Broadening-Griem.git

# Importing libraries
import numpy as np
